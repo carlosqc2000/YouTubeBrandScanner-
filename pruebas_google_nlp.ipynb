{
 "cells": [
  {
   "cell_type": "code",
   "execution_count": 1,
   "metadata": {},
   "outputs": [
    {
     "ename": "ModuleNotFoundError",
     "evalue": "No module named 'google'",
     "output_type": "error",
     "traceback": [
      "\u001b[1;31m---------------------------------------------------------------------------\u001b[0m",
      "\u001b[1;31mModuleNotFoundError\u001b[0m                       Traceback (most recent call last)",
      "Cell \u001b[1;32mIn[1], line 2\u001b[0m\n\u001b[0;32m      1\u001b[0m \u001b[38;5;28;01mimport\u001b[39;00m \u001b[38;5;21;01mos\u001b[39;00m\n\u001b[1;32m----> 2\u001b[0m \u001b[38;5;28;01mfrom\u001b[39;00m \u001b[38;5;21;01mgoogle\u001b[39;00m\u001b[38;5;21;01m.\u001b[39;00m\u001b[38;5;21;01mcloud\u001b[39;00m \u001b[38;5;28;01mimport\u001b[39;00m language_v1\n\u001b[0;32m      4\u001b[0m \u001b[38;5;66;03m# Configura la variable de entorno con la clave de autenticación\u001b[39;00m\n\u001b[0;32m      5\u001b[0m os\u001b[38;5;241m.\u001b[39menviron[\u001b[38;5;124m\"\u001b[39m\u001b[38;5;124mGOOGLE_APPLICATION_CREDENTIALS\u001b[39m\u001b[38;5;124m\"\u001b[39m] \u001b[38;5;241m=\u001b[39m \u001b[38;5;124m\"\u001b[39m\u001b[38;5;124mclave_google.json\u001b[39m\u001b[38;5;124m\"\u001b[39m  \u001b[38;5;66;03m# Reemplaza con la ruta correcta\u001b[39;00m\n",
      "\u001b[1;31mModuleNotFoundError\u001b[0m: No module named 'google'"
     ]
    }
   ],
   "source": [
    "import os\n",
    "from google.cloud import language_v1\n",
    "\n",
    "# Configura la variable de entorno con la clave de autenticación\n",
    "os.environ[\"GOOGLE_APPLICATION_CREDENTIALS\"] = \"clave_google.json\"  # Reemplaza con la ruta correcta\n",
    "\n",
    "def analyze_entities(text):\n",
    "    \"\"\"\n",
    "    Analiza entidades en un texto usando Google Cloud NLP API.\n",
    "    \"\"\"\n",
    "    client = language_v1.LanguageServiceClient()\n",
    "\n",
    "    # Prepara el contenido del texto\n",
    "    document = language_v1.Document(content=text, type_=language_v1.Document.Type.PLAIN_TEXT)\n",
    "\n",
    "    # Llamada a la API para detectar entidades\n",
    "    response = client.analyze_entities(document=document)\n",
    "\n",
    "    # Imprime los resultados\n",
    "    print(f\"{'Entidad':<20} | {'Tipo':<15} | {'Confianza':<10}\")\n",
    "    print(\"-\" * 50)\n",
    "    for entity in response.entities:\n",
    "        print(f\"{entity.name:<20} | {language_v1.Entity.Type(entity.type_).name:<15} | {entity.salience:.2f}\")\n",
    "\n",
    "# Ejemplo: Descripción de un video de YouTube\n",
    "descripcion_youtube = \"\"\"\n",
    "Este video está patrocinado por Nike y usamos productos Apple. \n",
    "También visitamos Starbucks en nuestro viaje a Nueva York.\n",
    "Sígueme en Instagram @miusuario para más contenido.\n",
    "\"\"\"\n",
    "\n",
    "# Ejecutar el análisis\n",
    "analyze_entities(descripcion_youtube)\n"
   ]
  }
 ],
 "metadata": {
  "kernelspec": {
   "display_name": "Python 3",
   "language": "python",
   "name": "python3"
  },
  "language_info": {
   "codemirror_mode": {
    "name": "ipython",
    "version": 3
   },
   "file_extension": ".py",
   "mimetype": "text/x-python",
   "name": "python",
   "nbconvert_exporter": "python",
   "pygments_lexer": "ipython3",
   "version": "3.13.0"
  }
 },
 "nbformat": 4,
 "nbformat_minor": 2
}
