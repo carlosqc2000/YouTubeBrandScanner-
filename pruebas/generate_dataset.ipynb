{
 "cells": [
  {
   "cell_type": "code",
   "execution_count": 15,
   "metadata": {},
   "outputs": [],
   "source": [
    "import pandas as pd\n",
    "import json\n",
    "\n",
    "# Leer archivo Excel\n",
    "df = pd.read_excel(\"revision_sponsors.xlsx\")\n",
    "\n",
    "# Columnas requeridas\n",
    "required_columns = ['prompt', 'descripcion_video', 'respuesta_modelo']\n",
    "if not all(column in df.columns for column in required_columns):\n",
    "    raise ValueError(f\"El archivo Excel debe contener las columnas: {required_columns}\")\n",
    "\n",
    "# Crear archivo JSONL (una línea por registro)\n",
    "with open(\"datos_entrenamiento2.jsonl\", \"w\", encoding='utf-8') as f:\n",
    "    for _, row in df.iterrows():\n",
    "        json_record = {\n",
    "            \"messages\": [\n",
    "                {\"role\": \"system\", \"content\": row[\"prompt\"]},\n",
    "                {\"role\": \"user\", \"content\": row[\"descripcion_video\"]},\n",
    "                {\"role\": \"assistant\", \"content\": row[\"respuesta_modelo\"]}\n",
    "            ]\n",
    "        }\n",
    "        f.write(json.dumps(json_record, ensure_ascii=False) + \"\\n\")\n"
   ]
  },
  {
   "cell_type": "code",
   "execution_count": 16,
   "metadata": {},
   "outputs": [
    {
     "name": "stdout",
     "output_type": "stream",
     "text": [
      "file-U7sfBYoxkEgocb7HNqRuF2\n"
     ]
    }
   ],
   "source": [
    "from openai import OpenAI\n",
    "\n",
    "client = OpenAI()\n",
    "\n",
    "# Subir archivo de entrenamiento a OpenAI\n",
    "file = client.files.create(\n",
    "    file=open(\"datos_entrenamiento2.jsonl\", \"rb\"),\n",
    "    purpose='fine-tune'\n",
    ")\n",
    "\n",
    "# Guarda el ID generado del archivo\n",
    "print(file.id)"
   ]
  },
  {
   "cell_type": "code",
   "execution_count": 13,
   "metadata": {},
   "outputs": [
    {
     "name": "stdout",
     "output_type": "stream",
     "text": [
      "file-Ck9urN3fqBKSTd8nffYY9z datos_entrenamiento.jsonl fine-tune 1741728664\n",
      "file-4Xssq6ykry2sTbyF19d82P income_distribution.png vision 1738633138\n"
     ]
    }
   ],
   "source": [
    "files = client.files.list()\n",
    "for file in files.data:\n",
    "    print(file.id, file.filename, file.purpose, file.created_at)\n"
   ]
  },
  {
   "cell_type": "code",
   "execution_count": 17,
   "metadata": {},
   "outputs": [
    {
     "data": {
      "text/plain": [
       "FineTuningJob(id='ftjob-ZcSZQWOCbi296pXYwsi4MDT3', created_at=1741789638, error=Error(code=None, message=None, param=None), fine_tuned_model=None, finished_at=None, hyperparameters=Hyperparameters(batch_size='auto', learning_rate_multiplier='auto', n_epochs='auto'), model='ft:gpt-4o-mini-2024-07-18:personal::BA1zm53p', object='fine_tuning.job', organization_id='org-oUWfGFqt2HEUlKrw4qO07UUc', result_files=[], seed=1457717538, status='validating_files', trained_tokens=None, training_file='file-U7sfBYoxkEgocb7HNqRuF2', validation_file=None, estimated_finish=None, integrations=[], method=Method(dpo=None, supervised=MethodSupervised(hyperparameters=MethodSupervisedHyperparameters(batch_size='auto', learning_rate_multiplier='auto', n_epochs='auto')), type='supervised'), user_provided_suffix=None, metadata=None)"
      ]
     },
     "execution_count": 17,
     "metadata": {},
     "output_type": "execute_result"
    }
   ],
   "source": [
    "from openai import OpenAI\n",
    "client = OpenAI()\n",
    "\n",
    "client.fine_tuning.jobs.create(\n",
    "    training_file=\"file-U7sfBYoxkEgocb7HNqRuF2\",\n",
    "    model=\"ft:gpt-4o-mini-2024-07-18:personal::BA1zm53p\"\n",
    ")"
   ]
  },
  {
   "cell_type": "code",
   "execution_count": 14,
   "metadata": {},
   "outputs": [
    {
     "name": "stdout",
     "output_type": "stream",
     "text": [
      "running\n"
     ]
    }
   ],
   "source": [
    "job = client.fine_tuning.jobs.retrieve(\"ftjob-8VgSVbMHiVeDVIcXDFTufbRr\")\n",
    "print(job.status)"
   ]
  },
  {
   "cell_type": "code",
   "execution_count": 8,
   "metadata": {},
   "outputs": [
    {
     "name": "stdout",
     "output_type": "stream",
     "text": [
      "Error(code=None, message=None, param=None)\n"
     ]
    }
   ],
   "source": [
    "print(job.error)\n"
   ]
  }
 ],
 "metadata": {
  "kernelspec": {
   "display_name": "Python 3",
   "language": "python",
   "name": "python3"
  },
  "language_info": {
   "codemirror_mode": {
    "name": "ipython",
    "version": 3
   },
   "file_extension": ".py",
   "mimetype": "text/x-python",
   "name": "python",
   "nbconvert_exporter": "python",
   "pygments_lexer": "ipython3",
   "version": "3.13.0"
  }
 },
 "nbformat": 4,
 "nbformat_minor": 2
}
